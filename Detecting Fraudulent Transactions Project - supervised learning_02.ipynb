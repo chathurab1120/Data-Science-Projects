{
 "cells": [
  {
   "cell_type": "code",
   "execution_count": 41,
   "metadata": {},
   "outputs": [],
   "source": [
    "import pandas as pd\n",
    "import numpy as np\n",
    "import matplotlib.pyplot as plt\n",
    "%matplotlib inline\n",
    "\n",
    "import seaborn as sns\n",
    "\n",
    "from sklearn.model_selection import train_test_split\n",
    "from sklearn.feature_selection import SelectFromModel\n",
    "from sklearn.model_selection import cross_val_score\n",
    "from sklearn.model_selection import  StratifiedKFold\n",
    "\n",
    "from sklearn.preprocessing import LabelEncoder\n",
    "from sklearn.preprocessing import MinMaxScaler\n",
    "\n",
    "\n",
    "from sklearn.linear_model import Lasso, LogisticRegression\n",
    "\n",
    "from datetime import datetime\n",
    "\n",
    "from sklearn.ensemble import RandomForestClassifier\n",
    "from sklearn.ensemble import GradientBoostingClassifier\n",
    "\n",
    "from sklearn import metrics\n",
    "from sklearn.metrics import roc_curve,roc_auc_score, confusion_matrix, classification_report, accuracy_score, make_scorer\n",
    "\n",
    "from sklearn.model_selection import GridSearchCV\n",
    "\n",
    "import warnings\n",
    "warnings.filterwarnings('ignore')"
   ]
  },
  {
   "cell_type": "markdown",
   "metadata": {},
   "source": [
    "Here, we will import two dataframes:\n",
    "\n",
    "*  df_le: categorical variables were label encoded, design for tree-based models\n",
    "*  df_db: categorical variables were One-Hot encoded, design for linear and distance dependant models."
   ]
  },
  {
   "cell_type": "markdown",
   "metadata": {},
   "source": [
    "*  Label Encoding: assign each unique category in a categorical variable with an integer. No new columns are created.\n",
    "*  One-Hot Encoding: create a new column for each unique category in a categorical variable. Each observation recives a 1 in the column for its corresponding category and a 0 in all other new column."
   ]
  },
  {
   "cell_type": "code",
   "execution_count": 2,
   "metadata": {},
   "outputs": [
    {
     "data": {
      "text/html": [
       "<div>\n",
       "<style scoped>\n",
       "    .dataframe tbody tr th:only-of-type {\n",
       "        vertical-align: middle;\n",
       "    }\n",
       "\n",
       "    .dataframe tbody tr th {\n",
       "        vertical-align: top;\n",
       "    }\n",
       "\n",
       "    .dataframe thead th {\n",
       "        text-align: right;\n",
       "    }\n",
       "</style>\n",
       "<table border=\"1\" class=\"dataframe\">\n",
       "  <thead>\n",
       "    <tr style=\"text-align: right;\">\n",
       "      <th></th>\n",
       "      <th>isFraud</th>\n",
       "      <th>TransactionAmt</th>\n",
       "      <th>ProductCD</th>\n",
       "      <th>card1</th>\n",
       "      <th>card2</th>\n",
       "      <th>card3</th>\n",
       "      <th>card4</th>\n",
       "      <th>card5</th>\n",
       "      <th>card6</th>\n",
       "      <th>addr1</th>\n",
       "      <th>...</th>\n",
       "      <th>V316</th>\n",
       "      <th>V317</th>\n",
       "      <th>V318</th>\n",
       "      <th>V319</th>\n",
       "      <th>V320</th>\n",
       "      <th>V321</th>\n",
       "      <th>transaction_day_of_week</th>\n",
       "      <th>transaction_hour</th>\n",
       "      <th>average_trans_amt_for_card1</th>\n",
       "      <th>average_trans_amt_for_card4</th>\n",
       "    </tr>\n",
       "  </thead>\n",
       "  <tbody>\n",
       "    <tr>\n",
       "      <th>0</th>\n",
       "      <td>1</td>\n",
       "      <td>83.742</td>\n",
       "      <td>0</td>\n",
       "      <td>3887</td>\n",
       "      <td>202.0</td>\n",
       "      <td>185.0</td>\n",
       "      <td>2</td>\n",
       "      <td>137.0</td>\n",
       "      <td>0</td>\n",
       "      <td>290.733794</td>\n",
       "      <td>...</td>\n",
       "      <td>0.0</td>\n",
       "      <td>0.0</td>\n",
       "      <td>0.0</td>\n",
       "      <td>0.0</td>\n",
       "      <td>0.0</td>\n",
       "      <td>0.0</td>\n",
       "      <td>1.0</td>\n",
       "      <td>0.0</td>\n",
       "      <td>2.197995</td>\n",
       "      <td>0.516988</td>\n",
       "    </tr>\n",
       "    <tr>\n",
       "      <th>1</th>\n",
       "      <td>1</td>\n",
       "      <td>159.950</td>\n",
       "      <td>4</td>\n",
       "      <td>5567</td>\n",
       "      <td>583.0</td>\n",
       "      <td>150.0</td>\n",
       "      <td>3</td>\n",
       "      <td>226.0</td>\n",
       "      <td>0</td>\n",
       "      <td>472.000000</td>\n",
       "      <td>...</td>\n",
       "      <td>0.0</td>\n",
       "      <td>0.0</td>\n",
       "      <td>0.0</td>\n",
       "      <td>0.0</td>\n",
       "      <td>0.0</td>\n",
       "      <td>0.0</td>\n",
       "      <td>5.0</td>\n",
       "      <td>23.0</td>\n",
       "      <td>0.135072</td>\n",
       "      <td>0.208779</td>\n",
       "    </tr>\n",
       "    <tr>\n",
       "      <th>2</th>\n",
       "      <td>0</td>\n",
       "      <td>100.000</td>\n",
       "      <td>4</td>\n",
       "      <td>15066</td>\n",
       "      <td>170.0</td>\n",
       "      <td>150.0</td>\n",
       "      <td>2</td>\n",
       "      <td>102.0</td>\n",
       "      <td>0</td>\n",
       "      <td>123.000000</td>\n",
       "      <td>...</td>\n",
       "      <td>0.0</td>\n",
       "      <td>0.0</td>\n",
       "      <td>0.0</td>\n",
       "      <td>0.0</td>\n",
       "      <td>0.0</td>\n",
       "      <td>0.0</td>\n",
       "      <td>3.0</td>\n",
       "      <td>14.0</td>\n",
       "      <td>0.313069</td>\n",
       "      <td>0.445289</td>\n",
       "    </tr>\n",
       "    <tr>\n",
       "      <th>3</th>\n",
       "      <td>0</td>\n",
       "      <td>194.950</td>\n",
       "      <td>4</td>\n",
       "      <td>10112</td>\n",
       "      <td>360.0</td>\n",
       "      <td>150.0</td>\n",
       "      <td>3</td>\n",
       "      <td>166.0</td>\n",
       "      <td>1</td>\n",
       "      <td>299.000000</td>\n",
       "      <td>...</td>\n",
       "      <td>0.0</td>\n",
       "      <td>0.0</td>\n",
       "      <td>0.0</td>\n",
       "      <td>0.0</td>\n",
       "      <td>0.0</td>\n",
       "      <td>0.0</td>\n",
       "      <td>1.0</td>\n",
       "      <td>22.0</td>\n",
       "      <td>0.414300</td>\n",
       "      <td>0.359963</td>\n",
       "    </tr>\n",
       "    <tr>\n",
       "      <th>4</th>\n",
       "      <td>1</td>\n",
       "      <td>250.000</td>\n",
       "      <td>3</td>\n",
       "      <td>8528</td>\n",
       "      <td>215.0</td>\n",
       "      <td>150.0</td>\n",
       "      <td>3</td>\n",
       "      <td>226.0</td>\n",
       "      <td>1</td>\n",
       "      <td>433.000000</td>\n",
       "      <td>...</td>\n",
       "      <td>0.0</td>\n",
       "      <td>0.0</td>\n",
       "      <td>0.0</td>\n",
       "      <td>0.0</td>\n",
       "      <td>0.0</td>\n",
       "      <td>0.0</td>\n",
       "      <td>5.0</td>\n",
       "      <td>15.0</td>\n",
       "      <td>0.513924</td>\n",
       "      <td>0.359963</td>\n",
       "    </tr>\n",
       "  </tbody>\n",
       "</table>\n",
       "<p>5 rows × 169 columns</p>\n",
       "</div>"
      ],
      "text/plain": [
       "   isFraud  TransactionAmt  ProductCD  card1  card2  card3  card4  card5  \\\n",
       "0        1          83.742          0   3887  202.0  185.0      2  137.0   \n",
       "1        1         159.950          4   5567  583.0  150.0      3  226.0   \n",
       "2        0         100.000          4  15066  170.0  150.0      2  102.0   \n",
       "3        0         194.950          4  10112  360.0  150.0      3  166.0   \n",
       "4        1         250.000          3   8528  215.0  150.0      3  226.0   \n",
       "\n",
       "   card6       addr1  ...  V316  V317  V318  V319  V320  V321  \\\n",
       "0      0  290.733794  ...   0.0   0.0   0.0   0.0   0.0   0.0   \n",
       "1      0  472.000000  ...   0.0   0.0   0.0   0.0   0.0   0.0   \n",
       "2      0  123.000000  ...   0.0   0.0   0.0   0.0   0.0   0.0   \n",
       "3      1  299.000000  ...   0.0   0.0   0.0   0.0   0.0   0.0   \n",
       "4      1  433.000000  ...   0.0   0.0   0.0   0.0   0.0   0.0   \n",
       "\n",
       "   transaction_day_of_week  transaction_hour  average_trans_amt_for_card1  \\\n",
       "0                      1.0               0.0                     2.197995   \n",
       "1                      5.0              23.0                     0.135072   \n",
       "2                      3.0              14.0                     0.313069   \n",
       "3                      1.0              22.0                     0.414300   \n",
       "4                      5.0              15.0                     0.513924   \n",
       "\n",
       "   average_trans_amt_for_card4  \n",
       "0                     0.516988  \n",
       "1                     0.208779  \n",
       "2                     0.445289  \n",
       "3                     0.359963  \n",
       "4                     0.359963  \n",
       "\n",
       "[5 rows x 169 columns]"
      ]
     },
     "execution_count": 2,
     "metadata": {},
     "output_type": "execute_result"
    }
   ],
   "source": [
    "df_le = pd.read_csv(r'H:\\Clean_df_le.csv')\n",
    "df_le.head()"
   ]
  },
  {
   "cell_type": "code",
   "execution_count": 3,
   "metadata": {},
   "outputs": [
    {
     "data": {
      "text/html": [
       "<div>\n",
       "<style scoped>\n",
       "    .dataframe tbody tr th:only-of-type {\n",
       "        vertical-align: middle;\n",
       "    }\n",
       "\n",
       "    .dataframe tbody tr th {\n",
       "        vertical-align: top;\n",
       "    }\n",
       "\n",
       "    .dataframe thead th {\n",
       "        text-align: right;\n",
       "    }\n",
       "</style>\n",
       "<table border=\"1\" class=\"dataframe\">\n",
       "  <thead>\n",
       "    <tr style=\"text-align: right;\">\n",
       "      <th></th>\n",
       "      <th>isFraud</th>\n",
       "      <th>TransactionAmt</th>\n",
       "      <th>card1</th>\n",
       "      <th>card2</th>\n",
       "      <th>card3</th>\n",
       "      <th>card5</th>\n",
       "      <th>addr1</th>\n",
       "      <th>addr2</th>\n",
       "      <th>C1</th>\n",
       "      <th>C2</th>\n",
       "      <th>...</th>\n",
       "      <th>average_trans_amt_for_card1</th>\n",
       "      <th>average_trans_amt_for_card4</th>\n",
       "      <th>ProductCD_H</th>\n",
       "      <th>ProductCD_R</th>\n",
       "      <th>ProductCD_S</th>\n",
       "      <th>ProductCD_W</th>\n",
       "      <th>card4_discover</th>\n",
       "      <th>card4_mastercard</th>\n",
       "      <th>card4_visa</th>\n",
       "      <th>card6_debit</th>\n",
       "    </tr>\n",
       "  </thead>\n",
       "  <tbody>\n",
       "    <tr>\n",
       "      <th>0</th>\n",
       "      <td>1</td>\n",
       "      <td>83.742</td>\n",
       "      <td>3887</td>\n",
       "      <td>202.0</td>\n",
       "      <td>185.0</td>\n",
       "      <td>137.0</td>\n",
       "      <td>290.733794</td>\n",
       "      <td>86.80063</td>\n",
       "      <td>27.0</td>\n",
       "      <td>20.0</td>\n",
       "      <td>...</td>\n",
       "      <td>2.197995</td>\n",
       "      <td>0.516988</td>\n",
       "      <td>0</td>\n",
       "      <td>0</td>\n",
       "      <td>0</td>\n",
       "      <td>0</td>\n",
       "      <td>0</td>\n",
       "      <td>1</td>\n",
       "      <td>0</td>\n",
       "      <td>0</td>\n",
       "    </tr>\n",
       "    <tr>\n",
       "      <th>1</th>\n",
       "      <td>1</td>\n",
       "      <td>159.950</td>\n",
       "      <td>5567</td>\n",
       "      <td>583.0</td>\n",
       "      <td>150.0</td>\n",
       "      <td>226.0</td>\n",
       "      <td>472.000000</td>\n",
       "      <td>87.00000</td>\n",
       "      <td>113.0</td>\n",
       "      <td>110.0</td>\n",
       "      <td>...</td>\n",
       "      <td>0.135072</td>\n",
       "      <td>0.208779</td>\n",
       "      <td>0</td>\n",
       "      <td>0</td>\n",
       "      <td>0</td>\n",
       "      <td>1</td>\n",
       "      <td>0</td>\n",
       "      <td>0</td>\n",
       "      <td>1</td>\n",
       "      <td>0</td>\n",
       "    </tr>\n",
       "    <tr>\n",
       "      <th>2</th>\n",
       "      <td>0</td>\n",
       "      <td>100.000</td>\n",
       "      <td>15066</td>\n",
       "      <td>170.0</td>\n",
       "      <td>150.0</td>\n",
       "      <td>102.0</td>\n",
       "      <td>123.000000</td>\n",
       "      <td>87.00000</td>\n",
       "      <td>2.0</td>\n",
       "      <td>2.0</td>\n",
       "      <td>...</td>\n",
       "      <td>0.313069</td>\n",
       "      <td>0.445289</td>\n",
       "      <td>0</td>\n",
       "      <td>0</td>\n",
       "      <td>0</td>\n",
       "      <td>1</td>\n",
       "      <td>0</td>\n",
       "      <td>1</td>\n",
       "      <td>0</td>\n",
       "      <td>0</td>\n",
       "    </tr>\n",
       "    <tr>\n",
       "      <th>3</th>\n",
       "      <td>0</td>\n",
       "      <td>194.950</td>\n",
       "      <td>10112</td>\n",
       "      <td>360.0</td>\n",
       "      <td>150.0</td>\n",
       "      <td>166.0</td>\n",
       "      <td>299.000000</td>\n",
       "      <td>87.00000</td>\n",
       "      <td>1.0</td>\n",
       "      <td>2.0</td>\n",
       "      <td>...</td>\n",
       "      <td>0.414300</td>\n",
       "      <td>0.359963</td>\n",
       "      <td>0</td>\n",
       "      <td>0</td>\n",
       "      <td>0</td>\n",
       "      <td>1</td>\n",
       "      <td>0</td>\n",
       "      <td>0</td>\n",
       "      <td>1</td>\n",
       "      <td>1</td>\n",
       "    </tr>\n",
       "    <tr>\n",
       "      <th>4</th>\n",
       "      <td>1</td>\n",
       "      <td>250.000</td>\n",
       "      <td>8528</td>\n",
       "      <td>215.0</td>\n",
       "      <td>150.0</td>\n",
       "      <td>226.0</td>\n",
       "      <td>433.000000</td>\n",
       "      <td>87.00000</td>\n",
       "      <td>1.0</td>\n",
       "      <td>1.0</td>\n",
       "      <td>...</td>\n",
       "      <td>0.513924</td>\n",
       "      <td>0.359963</td>\n",
       "      <td>0</td>\n",
       "      <td>0</td>\n",
       "      <td>1</td>\n",
       "      <td>0</td>\n",
       "      <td>0</td>\n",
       "      <td>0</td>\n",
       "      <td>1</td>\n",
       "      <td>1</td>\n",
       "    </tr>\n",
       "  </tbody>\n",
       "</table>\n",
       "<p>5 rows × 174 columns</p>\n",
       "</div>"
      ],
      "text/plain": [
       "   isFraud  TransactionAmt  card1  card2  card3  card5       addr1     addr2  \\\n",
       "0        1          83.742   3887  202.0  185.0  137.0  290.733794  86.80063   \n",
       "1        1         159.950   5567  583.0  150.0  226.0  472.000000  87.00000   \n",
       "2        0         100.000  15066  170.0  150.0  102.0  123.000000  87.00000   \n",
       "3        0         194.950  10112  360.0  150.0  166.0  299.000000  87.00000   \n",
       "4        1         250.000   8528  215.0  150.0  226.0  433.000000  87.00000   \n",
       "\n",
       "      C1     C2  ...  average_trans_amt_for_card1  \\\n",
       "0   27.0   20.0  ...                     2.197995   \n",
       "1  113.0  110.0  ...                     0.135072   \n",
       "2    2.0    2.0  ...                     0.313069   \n",
       "3    1.0    2.0  ...                     0.414300   \n",
       "4    1.0    1.0  ...                     0.513924   \n",
       "\n",
       "   average_trans_amt_for_card4  ProductCD_H  ProductCD_R  ProductCD_S  \\\n",
       "0                     0.516988            0            0            0   \n",
       "1                     0.208779            0            0            0   \n",
       "2                     0.445289            0            0            0   \n",
       "3                     0.359963            0            0            0   \n",
       "4                     0.359963            0            0            1   \n",
       "\n",
       "   ProductCD_W  card4_discover  card4_mastercard  card4_visa  card6_debit  \n",
       "0            0               0                 1           0            0  \n",
       "1            1               0                 0           1            0  \n",
       "2            1               0                 1           0            0  \n",
       "3            1               0                 0           1            1  \n",
       "4            0               0                 0           1            1  \n",
       "\n",
       "[5 rows x 174 columns]"
      ]
     },
     "execution_count": 3,
     "metadata": {},
     "output_type": "execute_result"
    }
   ],
   "source": [
    "df_db = pd.read_csv(r'H:\\Clean_df_db.csv')\n",
    "df_db.head()"
   ]
  },
  {
   "cell_type": "markdown",
   "metadata": {},
   "source": [
    "### Evaluating and Comparing Machine Learning Models"
   ]
  },
  {
   "cell_type": "markdown",
   "metadata": {},
   "source": [
    "##### Split Train and Test Set"
   ]
  },
  {
   "cell_type": "markdown",
   "metadata": {},
   "source": [
    "Split the data set into two parts in ratio of 80:20. "
   ]
  },
  {
   "cell_type": "code",
   "execution_count": 4,
   "metadata": {},
   "outputs": [],
   "source": [
    "# X is the feature set\n",
    "X_le = df_le.drop(labels=['isFraud'], axis = 1)\n",
    "\n",
    "# Y is the target variable\n",
    "Y_le = df_le['isFraud']"
   ]
  },
  {
   "cell_type": "code",
   "execution_count": 5,
   "metadata": {},
   "outputs": [],
   "source": [
    "# df_le\n",
    "X_train, X_test, Y_train, Y_test = train_test_split(X_le, Y_le, test_size=0.2, random_state=42)"
   ]
  },
  {
   "cell_type": "code",
   "execution_count": 6,
   "metadata": {},
   "outputs": [],
   "source": [
    "X_le_train = X_train.values\n",
    "X_le_test  = X_test.values\n",
    "Y_le_train = Y_train.values\n",
    "Y_le_test  = Y_test.values"
   ]
  },
  {
   "cell_type": "code",
   "execution_count": 7,
   "metadata": {},
   "outputs": [
    {
     "name": "stdout",
     "output_type": "stream",
     "text": [
      "(33060, 168) (8266, 168)\n",
      "(33060,) (8266,)\n"
     ]
    }
   ],
   "source": [
    "print(X_train.shape, X_test.shape)\n",
    "print(Y_train.shape, Y_test.shape)"
   ]
  },
  {
   "cell_type": "code",
   "execution_count": 8,
   "metadata": {},
   "outputs": [],
   "source": [
    "# X is the feature set\n",
    "X_db = df_db.drop(labels=['isFraud'], axis = 1)\n",
    "\n",
    "# Y is the target variable\n",
    "Y_db = df_db['isFraud']"
   ]
  },
  {
   "cell_type": "code",
   "execution_count": 9,
   "metadata": {},
   "outputs": [],
   "source": [
    "# df_db\n",
    "X_train, X_test, Y_train, Y_test = train_test_split(X_db, Y_db, test_size=0.2, random_state=42)"
   ]
  },
  {
   "cell_type": "code",
   "execution_count": 10,
   "metadata": {},
   "outputs": [],
   "source": [
    "X_db_train = X_train.values\n",
    "X_db_test  = X_test.values\n",
    "Y_db_train = Y_train.values\n",
    "Y_db_test  = Y_test.values"
   ]
  },
  {
   "cell_type": "code",
   "execution_count": 11,
   "metadata": {},
   "outputs": [
    {
     "name": "stdout",
     "output_type": "stream",
     "text": [
      "(33060, 173) (8266, 173)\n",
      "(33060,) (8266,)\n"
     ]
    }
   ],
   "source": [
    "print(X_train.shape, X_test.shape)\n",
    "print(Y_train.shape, Y_test.shape)"
   ]
  },
  {
   "cell_type": "markdown",
   "metadata": {},
   "source": [
    "##### Scaling Features"
   ]
  },
  {
   "cell_type": "markdown",
   "metadata": {},
   "source": [
    "* Scaling features is necessary because features are in different units, and want to normalize the features so the units do not affect the algorithm.\n",
    "\n",
    "* Linear models and tree based models do not require feature scaling, but SVM and k nearest neighbors, do require it because they take into account the Euclidean distance between observation."
   ]
  },
  {
   "cell_type": "markdown",
   "metadata": {},
   "source": [
    "Only scale df_db since we will regularized logistic regression. "
   ]
  },
  {
   "cell_type": "code",
   "execution_count": 12,
   "metadata": {},
   "outputs": [],
   "source": [
    "#Create the scaler object with a range of 0-1\n",
    "scaler = MinMaxScaler(feature_range = (0,1))\n",
    "\n",
    "#Fit on the training data\n",
    "scaler.fit(X_db_train)\n",
    "\n",
    "#Transform both the training and testing data\n",
    "X_db_train = scaler.transform(X_db_train)\n",
    "X_db_test = scaler.transform(X_db_test)"
   ]
  },
  {
   "cell_type": "code",
   "execution_count": 13,
   "metadata": {},
   "outputs": [],
   "source": [
    "#convert Y to one-dimentional array (vector)\n",
    "Y_db_train = np.array(Y_db_train).reshape((-1,))\n",
    "Y_db_test= np.array(Y_db_test).reshape((-1,))"
   ]
  },
  {
   "cell_type": "markdown",
   "metadata": {},
   "source": [
    "### Metric"
   ]
  },
  {
   "cell_type": "markdown",
   "metadata": {},
   "source": [
    "We will evaluate our models based on their predicted probability ROC AUC score. ROC AUC \"summarize the trade-off between the true positive rate and false positive rate for a predictive model using different probability thresholds. This is appropriate for our dataset since we are interested in detecting fraudulent transactions which are the minority class in our raw dataset.\n",
    "\n",
    "We’ll also focus on the false negative rate and false positive rate. False negative rate is failure to label true fraudulent transactions as fraud, which results in revenue loss for vendors. False positive rate is identifying normal transactions as fraudulent. \n",
    "\n",
    "Other metrics to keep in mind:\n",
    "\n",
    "* Accuracy: ratio of properly labeled transactions\n",
    "    \n",
    "* Precision: ratio of correctly predicted positive observations to the total predicted positive observations. The question        that this metric answer is of all transactions that are labeled as fraud, how many are actually fraud? High precision          relates to the low false positive rate.\n",
    "    \n",
    "* Recall (Sensitivity): ratio of correctly predicted positive observations to the all observations in actual class - yes.        The question recall answers is: Of all the transaction that are truly fraud, how many did we label? \n",
    "    \n",
    "* F1 score: F1 Score is the weighted average of Precision and Recall. "
   ]
  },
  {
   "cell_type": "markdown",
   "metadata": {},
   "source": [
    "### Inital Model Selection"
   ]
  },
  {
   "cell_type": "markdown",
   "metadata": {},
   "source": [
    "Will compare three different machine learning models:\n",
    "\n",
    "    1. Random Forest Classifer\n",
    "    2. Gradient Boosting Classifer\n",
    "    "
   ]
  },
  {
   "cell_type": "markdown",
   "metadata": {},
   "source": [
    "### Baseline"
   ]
  },
  {
   "cell_type": "markdown",
   "metadata": {},
   "source": [
    "### Random Forest"
   ]
  },
  {
   "cell_type": "code",
   "execution_count": 14,
   "metadata": {},
   "outputs": [],
   "source": [
    "# This function uses cross validation to evaluate model performance. \n",
    "def fit_and_evaluate(model, X_train, Y_train):\n",
    "    \n",
    "    #Uses Kfold for cross validation\n",
    "    kfold = StratifiedKFold(n_splits=10, random_state=42)\n",
    "    \n",
    "    #plot ROC curves\n",
    "    roc = cross_val_score(model, X_train, Y_train, cv=kfold, scoring='roc_auc')\n",
    "    accuracy = cross_val_score(model, X_train, Y_train, cv=kfold, scoring='accuracy').mean() * 100\n",
    "    roc_result = '%f (%f)' % (roc.mean(), roc.std())\n",
    "    \n",
    "    print(cross_val_score(model, X_train, Y_train, cv=kfold, scoring='roc_auc'))\n",
    "    print(\"This model's ROC AUC score is : \", roc_result)\n",
    "    print('This model has an accuracy of {0:.2f}% in predicting fraudulent transactions.'.format(accuracy))"
   ]
  },
  {
   "cell_type": "code",
   "execution_count": 15,
   "metadata": {},
   "outputs": [
    {
     "name": "stdout",
     "output_type": "stream",
     "text": [
      "Random Forest Classifer\n",
      "[0.91812005 0.91456532 0.91934004 0.91383519 0.91343298 0.91041129\n",
      " 0.91254549 0.91004934 0.92182869 0.90771275]\n",
      "This model's ROC AUC score is :  0.914761 (0.003916)\n",
      "This model has an accuracy of 83.98% in predicting fraudulent transactions.\n",
      "\n",
      "Duration: 0:02:10.401052\n"
     ]
    }
   ],
   "source": [
    "# Random Forest Classifer\n",
    "start_time = datetime.now()\n",
    "\n",
    "print('Random Forest Classifer')\n",
    "\n",
    "#Create a Gaussian Classifier\n",
    "clf = RandomForestClassifier(n_estimators=100, n_jobs=-1)\n",
    "\n",
    "# Train the classifier\n",
    "fit_and_evaluate(clf, X_le_train, Y_le_train)\n",
    "\n",
    "end_time = datetime.now()\n",
    "print('\\nDuration: {}'.format(end_time - start_time))"
   ]
  },
  {
   "cell_type": "markdown",
   "metadata": {},
   "source": [
    "**Evaluation:** our initial random forest model doesn't appear to be overfitting on the training set. This model has a ROC score of 0.915 and an accuracy of 83.91%."
   ]
  },
  {
   "cell_type": "markdown",
   "metadata": {},
   "source": [
    "##### Model Interpretation: Feature Importances"
   ]
  },
  {
   "cell_type": "code",
   "execution_count": 16,
   "metadata": {},
   "outputs": [
    {
     "data": {
      "text/html": [
       "<div>\n",
       "<style scoped>\n",
       "    .dataframe tbody tr th:only-of-type {\n",
       "        vertical-align: middle;\n",
       "    }\n",
       "\n",
       "    .dataframe tbody tr th {\n",
       "        vertical-align: top;\n",
       "    }\n",
       "\n",
       "    .dataframe thead th {\n",
       "        text-align: right;\n",
       "    }\n",
       "</style>\n",
       "<table border=\"1\" class=\"dataframe\">\n",
       "  <thead>\n",
       "    <tr style=\"text-align: right;\">\n",
       "      <th></th>\n",
       "      <th>Variable</th>\n",
       "      <th>Importance</th>\n",
       "    </tr>\n",
       "  </thead>\n",
       "  <tbody>\n",
       "    <tr>\n",
       "      <th>0</th>\n",
       "      <td>TransactionAmt</td>\n",
       "      <td>0.040913</td>\n",
       "    </tr>\n",
       "    <tr>\n",
       "      <th>21</th>\n",
       "      <td>C13</td>\n",
       "      <td>0.037528</td>\n",
       "    </tr>\n",
       "    <tr>\n",
       "      <th>2</th>\n",
       "      <td>card1</td>\n",
       "      <td>0.032820</td>\n",
       "    </tr>\n",
       "    <tr>\n",
       "      <th>166</th>\n",
       "      <td>average_trans_amt_for_card1</td>\n",
       "      <td>0.032686</td>\n",
       "    </tr>\n",
       "    <tr>\n",
       "      <th>167</th>\n",
       "      <td>average_trans_amt_for_card4</td>\n",
       "      <td>0.030345</td>\n",
       "    </tr>\n",
       "    <tr>\n",
       "      <th>3</th>\n",
       "      <td>card2</td>\n",
       "      <td>0.029008</td>\n",
       "    </tr>\n",
       "    <tr>\n",
       "      <th>10</th>\n",
       "      <td>C1</td>\n",
       "      <td>0.027526</td>\n",
       "    </tr>\n",
       "    <tr>\n",
       "      <th>22</th>\n",
       "      <td>C14</td>\n",
       "      <td>0.026896</td>\n",
       "    </tr>\n",
       "    <tr>\n",
       "      <th>165</th>\n",
       "      <td>transaction_hour</td>\n",
       "      <td>0.025867</td>\n",
       "    </tr>\n",
       "    <tr>\n",
       "      <th>11</th>\n",
       "      <td>C2</td>\n",
       "      <td>0.024385</td>\n",
       "    </tr>\n",
       "  </tbody>\n",
       "</table>\n",
       "</div>"
      ],
      "text/plain": [
       "                        Variable  Importance\n",
       "0                 TransactionAmt    0.040913\n",
       "21                           C13    0.037528\n",
       "2                          card1    0.032820\n",
       "166  average_trans_amt_for_card1    0.032686\n",
       "167  average_trans_amt_for_card4    0.030345\n",
       "3                          card2    0.029008\n",
       "10                            C1    0.027526\n",
       "22                           C14    0.026896\n",
       "165             transaction_hour    0.025867\n",
       "11                            C2    0.024385"
      ]
     },
     "execution_count": 16,
     "metadata": {},
     "output_type": "execute_result"
    }
   ],
   "source": [
    "# Top N importances\n",
    "\n",
    "clf.fit(X_le_train, Y_le_train)\n",
    "\n",
    "N = 10\n",
    "importances = clf.feature_importances_\n",
    "std = np.std([tree.feature_importances_ for tree in clf.estimators_],\n",
    "             axis=0)\n",
    "\n",
    "# Create a dataframe\n",
    "importances_df = pd.DataFrame({'Variable':X_le.columns, 'Importance': importances})\n",
    "\n",
    "top_N = importances_df.sort_values(by=['Importance'], ascending=False).head(10)\n",
    "\n",
    "top_N"
   ]
  },
  {
   "cell_type": "code",
   "execution_count": 17,
   "metadata": {},
   "outputs": [
    {
     "data": {
      "image/png": "[encoded data removed]",
      "text/plain": [
       "<Figure size 432x288 with 1 Axes>"
      ]
     },
     "metadata": {
      "needs_background": "light"
     },
     "output_type": "display_data"
    }
   ],
   "source": [
    "# Creating a bar plot\n",
    "sns.barplot(y='Variable', x='Importance', data=top_N)\n",
    "# Add labels to your graph\n",
    "plt.xlabel('Feature Importance Score')\n",
    "plt.ylabel('Features')\n",
    "plt.title(\"Visualizing Random Forest Important Features\")\n",
    "plt.show()"
   ]
  },
  {
   "cell_type": "markdown",
   "metadata": {},
   "source": [
    "**Observation:** Transaction amount and counting matches appears to be the most important features in detecting fraud. Our feature engineered variables also made it in the top ten with interactions between transaction amount and card information.\n",
    "\n",
    "Let's try to reduce the noise in the data by placing a threshold of 0.005 for feature importance."
   ]
  },
  {
   "cell_type": "code",
   "execution_count": 18,
   "metadata": {},
   "outputs": [
    {
     "data": {
      "text/plain": [
       "SelectFromModel(estimator=RandomForestClassifier(bootstrap=True,\n",
       "                                                 class_weight=None,\n",
       "                                                 criterion='gini',\n",
       "                                                 max_depth=None,\n",
       "                                                 max_features='auto',\n",
       "                                                 max_leaf_nodes=None,\n",
       "                                                 min_impurity_decrease=0.0,\n",
       "                                                 min_impurity_split=None,\n",
       "                                                 min_samples_leaf=1,\n",
       "                                                 min_samples_split=2,\n",
       "                                                 min_weight_fraction_leaf=0.0,\n",
       "                                                 n_estimators=100, n_jobs=-1,\n",
       "                                                 oob_score=False,\n",
       "                                                 random_state=None, verbose=0,\n",
       "                                                 warm_start=False),\n",
       "                max_features=None, norm_order=1, prefit=False,\n",
       "                threshold=0.0005)"
      ]
     },
     "execution_count": 18,
     "metadata": {},
     "output_type": "execute_result"
    }
   ],
   "source": [
    "# Create a selector object that will use the random forest classifier to identify\n",
    "# features that have an importance of more than 0.0005\n",
    "sfm = SelectFromModel(clf, threshold=0.0005)\n",
    "\n",
    "# Train the classifier\n",
    "sfm.fit(X_le_train, Y_le_train)"
   ]
  },
  {
   "cell_type": "code",
   "execution_count": 19,
   "metadata": {},
   "outputs": [
    {
     "data": {
      "text/plain": [
       "((33060, 151), (8266, 151))"
      ]
     },
     "execution_count": 19,
     "metadata": {},
     "output_type": "execute_result"
    }
   ],
   "source": [
    "# Transform the data to create a new dataset containing only the most important features\n",
    "# Note: We have to apply the transform to both the training X and test X data.\n",
    "X_important_train = sfm.transform(X_le_train)\n",
    "X_important_test = sfm.transform(X_le_test)\n",
    "X_important_train.shape, X_important_test.shape"
   ]
  },
  {
   "cell_type": "code",
   "execution_count": 20,
   "metadata": {},
   "outputs": [
    {
     "name": "stdout",
     "output_type": "stream",
     "text": [
      "[0.9148193  0.91628797 0.92063926 0.91406832 0.91496441 0.91202854\n",
      " 0.91358816 0.91142706 0.92170206 0.90877976]\n",
      "This model's ROC AUC score is :  0.915544 (0.003813)\n",
      "This model has an accuracy of 84.10% in predicting fraudulent transactions.\n",
      "\n",
      "Duration: 0:04:56.782695\n"
     ]
    }
   ],
   "source": [
    "# Create a new random forest classifier for the most important features\n",
    "clf_important = RandomForestClassifier(n_estimators=100, n_jobs=-1)\n",
    "\n",
    "# Train the new classifier on the new dataset containing the most important features\n",
    "fit_and_evaluate(clf_important, X_important_train, Y_le_train)\n",
    "\n",
    "end_time = datetime.now()\n",
    "print('\\nDuration: {}'.format(end_time - start_time))"
   ]
  },
  {
   "cell_type": "markdown",
   "metadata": {},
   "source": [
    "**Evaluation:** It looks like our selected importance features didn't have much positive effect on the performance of the model. The AUC score for this model is 0.914, which is lower than the initial random forest model. The accuracy did increase a bit from 83.91% to 83.94%."
   ]
  },
  {
   "cell_type": "markdown",
   "metadata": {},
   "source": [
    "**Optimization**\n",
    "\n",
    "We'll continue with all features from the inital random forest for further tuning."
   ]
  },
  {
   "cell_type": "code",
   "execution_count": 21,
   "metadata": {},
   "outputs": [
    {
     "name": "stdout",
     "output_type": "stream",
     "text": [
      "[0.91231986 0.91068687 0.91317918 0.91148909 0.90935965 0.90688034\n",
      " 0.90861013 0.90729298 0.91884066 0.90470753]\n",
      "This model's ROC AUC score is :  0.909881 (0.004173)\n",
      "This model has an accuracy of 83.63% in predicting fraudulent transactions.\n",
      "\n",
      "Duration: 0:01:34.154069\n"
     ]
    }
   ],
   "source": [
    "\n",
    "#Optimized model with Random Forest Classifier\n",
    "start_time = datetime.now()\n",
    "\n",
    "clf_opt = RandomForestClassifier(n_estimators=30,criterion='entropy',max_depth=250)\n",
    "\n",
    "# Train the classifier\n",
    "fit_and_evaluate(clf_opt, X_le_train, Y_le_train)\n",
    "\n",
    "end_time = datetime.now()\n",
    "print('\\nDuration: {}'.format(end_time - start_time))"
   ]
  },
  {
   "cell_type": "markdown",
   "metadata": {},
   "source": [
    "**Evaluation:** This model has a AUC score is 0.909 on the training set, which is worse than the initial random forest model.\n",
    "\n",
    "\n",
    "Let's continue tuning to see if we can improve the preformance of the model."
   ]
  },
  {
   "cell_type": "code",
   "execution_count": 22,
   "metadata": {},
   "outputs": [
    {
     "name": "stdout",
     "output_type": "stream",
     "text": [
      "[0.86346425 0.87481962 0.87428621 0.8592008  0.8680516  0.86114066\n",
      " 0.86982311 0.86255114 0.87351674 0.86245068]\n",
      "This model's ROC AUC score is :  0.866526 (0.005775)\n",
      "This model has an accuracy of 78.92% in predicting fraudulent transactions.\n",
      "\n",
      "Duration: 0:00:59.078378\n"
     ]
    }
   ],
   "source": [
    "#Optimized model with Random Forest Classifier\n",
    "start_time = datetime.now()\n",
    "\n",
    "clf_opt2 = RandomForestClassifier(n_estimators=30,criterion='entropy',max_depth=250, \n",
    "                                  max_leaf_nodes=50, min_samples_leaf=50, min_samples_split=30 )\n",
    "# Train the classifier\n",
    "fit_and_evaluate(clf_opt2, X_le_train, Y_le_train)\n",
    "\n",
    "\n",
    "end_time = datetime.now()\n",
    "print('\\nDuration: {}'.format(end_time - start_time))"
   ]
  },
  {
   "cell_type": "markdown",
   "metadata": {},
   "source": [
    "**Evaluation:** Further tuning of random forest has decreased ROC AUC score and has a lower accuracy rate than the previous random forest models."
   ]
  },
  {
   "cell_type": "markdown",
   "metadata": {},
   "source": [
    "## Best performing Random Forest model"
   ]
  },
  {
   "cell_type": "code",
   "execution_count": 23,
   "metadata": {},
   "outputs": [],
   "source": [
    "# This function helps to plot ROC curve\n",
    "def roc_curve(model, train_x, train_y, test_x, test_y):\n",
    "    y_prob_predict = model.predict_proba(train_x)[:, 1]\n",
    "    y_prob_predict2 = model.predict_proba(test_x)[:, 1]\n",
    "    fpr, tpr, t_holds = metrics.roc_curve(train_y, y_prob_predict)\n",
    "    fpr2, tpr2, t_holds = metrics.roc_curve(test_y, y_prob_predict2)\n",
    "\n",
    "    auc_model = metrics.roc_auc_score(train_y, y_prob_predict)\n",
    "    auc_model2 = metrics.roc_auc_score(test_y, y_prob_predict2)\n",
    "\n",
    "    figure, ax = plt.subplots()\n",
    "    ax.plot(fpr, tpr, label=\"Train, auc=\" + str(auc_model))\n",
    "    ax.plot(fpr2, tpr2, label=\"Test, auc=\" + str(auc_model2))\n",
    "\n",
    "    plt.title('curve - ROC')\n",
    "    ax.legend(loc=4)\n",
    "    plt.xlabel('Rate - False Positive')\n",
    "    plt.ylabel('Rate - True Positive Rate')\n",
    "\n",
    "    plt.show()\n"
   ]
  },
  {
   "cell_type": "code",
   "execution_count": 24,
   "metadata": {},
   "outputs": [],
   "source": [
    "# Using test set evaluate the model\n",
    "def pred_test(model, train_x, train_y, test_x, test_y):\n",
    "    # Model Fit\n",
    "    model.fit(train_x, train_y)\n",
    "\n",
    "    # use test set to predict\n",
    "    y_pred = model.predict(test_x)\n",
    "    roc = metrics.roc_auc_score(test_y, y_pred)\n",
    "\n",
    "    # Get ROC values\n",
    "    roc_result = '%f (%f)' % (roc.mean(), roc.std())\n",
    "    print(\"ROC AUC score of this model is : {}\".format(roc_result))\n",
    "\n",
    "    # Get Accuracy values\n",
    "    acc = accuracy_score(test_y, y_pred)\n",
    "    print(\"Accuracy score of this model is : {}\".format(acc))\n",
    "\n",
    "    # obtain confusion matrix and create classification report\n",
    "    conf_m = confusion_matrix(test_y, y_pred)\n",
    "    fp = conf_m.sum(axis=0) - np.diag(conf_m)\n",
    "    fn = conf_m.sum(axis=1) - np.diag(conf_m)\n",
    "    tp = np.diag(conf_m)\n",
    "    tn = conf_m.sum() - (fp + fn + tp)\n",
    "\n",
    "    # Specificity or true negative rate\n",
    "    tnr = tn/(tn + fp)\n",
    "    # Sensitivity, hit rate, recall, or true positive rate\n",
    "    tpr = tp/(fn +tp)\n",
    "    # Negative predictive value\n",
    "    npv = tn/(fn +tn)\n",
    "    # Fall out or false positive rate\n",
    "    fpr = fp/(tn + fp)\n",
    "    # Precision or positive predictive value\n",
    "    ppv = tp/(fp + tp)\n",
    "    # Overall accuracy\n",
    "    acc = (tn +tp)/(tp + fn + tn + fp)\n",
    "    # False discovery rate\n",
    "    fdr = fp/(fp + tp)\n",
    "    # False negative rate\n",
    "    fnr = fn/(tp + fn)\n",
    "\n",
    "\n",
    "    print('------------------------------------------------------------')\n",
    "    print('Fraudulent transactions predicted correctly (TPR): {}'.format(tpr))\n",
    "    print('Normal transactions predicted correctly (TNR): {}'.format(tnr))\n",
    "    print('Normal transactions predicted incorrectly (FPR): {}'.format(fpr))\n",
    "    print('Fraudulent transactions predicted incorrectly (FNR): {}'.format(fnr))\n",
    "    print('------------------------------------------------------------')\n",
    "\n",
    "    print('Classification Report')\n",
    "    print(classification_report(test_y, y_pred))\n",
    "    print('------------------------------------------------------------')\n",
    "\n",
    "    return roc_curve(model, train_x, train_y, test_x, test_y)\n"
   ]
  },
  {
   "cell_type": "code",
   "execution_count": 25,
   "metadata": {},
   "outputs": [
    {
     "name": "stdout",
     "output_type": "stream",
     "text": [
      "Random Forest Classifer\n",
      "ROC AUC score of this model is : 0.835834 (0.000000)\n",
      "Accuracy score of this model is : 0.835833534962497\n",
      "------------------------------------------------------------\n",
      "Fraudulent transactions predicted correctly (TPR): [0.85748851 0.81417856]\n",
      "Normal transactions predicted correctly (TNR): [0.81417856 0.85748851]\n",
      "Normal transactions predicted incorrectly (FPR): [0.18582144 0.14251149]\n",
      "Fraudulent transactions predicted incorrectly (FNR): [0.14251149 0.18582144]\n",
      "------------------------------------------------------------\n",
      "Classification Report\n",
      "              precision    recall  f1-score   support\n",
      "\n",
      "           0       0.82      0.86      0.84      4133\n",
      "           1       0.85      0.81      0.83      4133\n",
      "\n",
      "    accuracy                           0.84      8266\n",
      "   macro avg       0.84      0.84      0.84      8266\n",
      "weighted avg       0.84      0.84      0.84      8266\n",
      "\n",
      "------------------------------------------------------------\n"
     ]
    },
    {
     "data": {
      "image/png": "[encoded data removed]",
      "text/plain": [
       "<Figure size 432x288 with 1 Axes>"
      ]
     },
     "metadata": {
      "needs_background": "light"
     },
     "output_type": "display_data"
    },
    {
     "name": "stdout",
     "output_type": "stream",
     "text": [
      "\n",
      "Duration: 0:00:06.300411\n"
     ]
    }
   ],
   "source": [
    "# Random Forest Classifer\n",
    "start_time = datetime.now()\n",
    "\n",
    "print('Random Forest Classifer')\n",
    "\n",
    "#Create a Gaussian Classifier\n",
    "clf = RandomForestClassifier(n_estimators=100, n_jobs=-1)\n",
    "\n",
    "pred_test(clf, X_le_train, Y_le_train, X_le_test, Y_le_test)\n",
    "\n",
    "end_time = datetime.now()\n",
    "print('\\nDuration: {}'.format(end_time - start_time))"
   ]
  },
  {
   "cell_type": "markdown",
   "metadata": {},
   "source": [
    "**Evaluation:** This model has a ROC AUC score on the test set 0.913 and accuracy score of 83.77%. It correctly predicted 81% fraud transactions and 86% normal transaction. \n",
    "\n",
    "The best set of parameters for random forest was setting the number of trees to 100. \n",
    "\n",
    "Random forest had a longer computational time than logistic regression. \n"
   ]
  },
  {
   "cell_type": "markdown",
   "metadata": {},
   "source": [
    "## Gradient Boost"
   ]
  },
  {
   "cell_type": "code",
   "execution_count": 26,
   "metadata": {},
   "outputs": [
    {
     "name": "stdout",
     "output_type": "stream",
     "text": [
      "[0.88307296 0.8952633  0.89256861 0.88151774 0.89013943 0.88360546\n",
      " 0.88573361 0.88203578 0.8964057  0.88330206]\n",
      "This model's ROC AUC score is :  0.887364 (0.005415)\n",
      "This model has an accuracy of 80.96% in predicting fraudulent transactions.\n",
      "\n",
      "Duration: 0:18:18.475714\n"
     ]
    }
   ],
   "source": [
    "#Gradient Boosting Classifer\n",
    "start_time = datetime.now()\n",
    "\n",
    "gb = GradientBoostingClassifier(random_state=42)\n",
    "\n",
    "#Train the classifier\n",
    "fit_and_evaluate(gb, X_le_train, Y_le_train)\n",
    "\n",
    "end_time = datetime.now()\n",
    "print('\\nDuration: {}'.format(end_time - start_time))"
   ]
  },
  {
   "cell_type": "markdown",
   "metadata": {},
   "source": [
    "**Evaluation:** The initial gradient boosting model has a scoe of 0.88 and an accuracy score of 80.96%. These results are relatively lower than the random forest models. Also, the computational time is way higher than the random forest models."
   ]
  },
  {
   "cell_type": "markdown",
   "metadata": {},
   "source": [
    "#### Feature Importances"
   ]
  },
  {
   "cell_type": "code",
   "execution_count": 27,
   "metadata": {},
   "outputs": [
    {
     "data": {
      "text/html": [
       "<div>\n",
       "<style scoped>\n",
       "    .dataframe tbody tr th:only-of-type {\n",
       "        vertical-align: middle;\n",
       "    }\n",
       "\n",
       "    .dataframe tbody tr th {\n",
       "        vertical-align: top;\n",
       "    }\n",
       "\n",
       "    .dataframe thead th {\n",
       "        text-align: right;\n",
       "    }\n",
       "</style>\n",
       "<table border=\"1\" class=\"dataframe\">\n",
       "  <thead>\n",
       "    <tr style=\"text-align: right;\">\n",
       "      <th></th>\n",
       "      <th>Variable</th>\n",
       "      <th>Importance</th>\n",
       "    </tr>\n",
       "  </thead>\n",
       "  <tbody>\n",
       "    <tr>\n",
       "      <th>22</th>\n",
       "      <td>C14</td>\n",
       "      <td>0.132951</td>\n",
       "    </tr>\n",
       "    <tr>\n",
       "      <th>10</th>\n",
       "      <td>C1</td>\n",
       "      <td>0.131455</td>\n",
       "    </tr>\n",
       "    <tr>\n",
       "      <th>62</th>\n",
       "      <td>V74</td>\n",
       "      <td>0.077277</td>\n",
       "    </tr>\n",
       "    <tr>\n",
       "      <th>159</th>\n",
       "      <td>V317</td>\n",
       "      <td>0.065210</td>\n",
       "    </tr>\n",
       "    <tr>\n",
       "      <th>14</th>\n",
       "      <td>C5</td>\n",
       "      <td>0.062951</td>\n",
       "    </tr>\n",
       "    <tr>\n",
       "      <th>150</th>\n",
       "      <td>V308</td>\n",
       "      <td>0.049539</td>\n",
       "    </tr>\n",
       "    <tr>\n",
       "      <th>39</th>\n",
       "      <td>V29</td>\n",
       "      <td>0.038174</td>\n",
       "    </tr>\n",
       "    <tr>\n",
       "      <th>17</th>\n",
       "      <td>C8</td>\n",
       "      <td>0.034601</td>\n",
       "    </tr>\n",
       "    <tr>\n",
       "      <th>20</th>\n",
       "      <td>C12</td>\n",
       "      <td>0.033587</td>\n",
       "    </tr>\n",
       "    <tr>\n",
       "      <th>7</th>\n",
       "      <td>card6</td>\n",
       "      <td>0.033048</td>\n",
       "    </tr>\n",
       "  </tbody>\n",
       "</table>\n",
       "</div>"
      ],
      "text/plain": [
       "    Variable  Importance\n",
       "22       C14    0.132951\n",
       "10        C1    0.131455\n",
       "62       V74    0.077277\n",
       "159     V317    0.065210\n",
       "14        C5    0.062951\n",
       "150     V308    0.049539\n",
       "39       V29    0.038174\n",
       "17        C8    0.034601\n",
       "20       C12    0.033587\n",
       "7      card6    0.033048"
      ]
     },
     "execution_count": 27,
     "metadata": {},
     "output_type": "execute_result"
    }
   ],
   "source": [
    "# Top N importances\n",
    "\n",
    "gb.fit(X_le_train, Y_le_train)\n",
    "\n",
    "N = 10\n",
    "importances = gb.feature_importances_\n",
    "\n",
    "# Create a dataframe\n",
    "importances_df = pd.DataFrame({'Variable':X_le.columns, 'Importance': importances})\n",
    "\n",
    "top_N_gb = importances_df.sort_values(by=['Importance'], ascending=False).head(10)\n",
    "\n",
    "top_N_gb"
   ]
  },
  {
   "cell_type": "code",
   "execution_count": 45,
   "metadata": {
    "scrolled": true
   },
   "outputs": [
    {
     "data": {
      "image/png": "[encoded data removed]",
      "text/plain": [
       "<Figure size 432x288 with 1 Axes>"
      ]
     },
     "metadata": {
      "needs_background": "light"
     },
     "output_type": "display_data"
    }
   ],
   "source": [
    "# Creating a bar plot\n",
    "sns.barplot(y='Variable', x='Importance', data=top_N_gb)\n",
    "# Add labels to your graph\n",
    "plt.xlabel('Feature Importance Score')\n",
    "plt.ylabel('Features')\n",
    "plt.title(\"Visualizing Gradient Boosting  Important Features\")\n",
    "plt.show()"
   ]
  },
  {
   "cell_type": "markdown",
   "metadata": {},
   "source": [
    "**Observation:** Count of card informatino matches and vesta feature engineerd variables appear to the top contributing factors in detecting fraud for this model."
   ]
  },
  {
   "cell_type": "markdown",
   "metadata": {},
   "source": [
    "##### Optomization"
   ]
  },
  {
   "cell_type": "markdown",
   "metadata": {},
   "source": [
    "Tuning number of trees added to the model."
   ]
  },
  {
   "cell_type": "code",
   "execution_count": 29,
   "metadata": {},
   "outputs": [
    {
     "name": "stdout",
     "output_type": "stream",
     "text": [
      "Fitting 5 folds for each of 27 candidates, totalling 135 fits\n"
     ]
    },
    {
     "name": "stderr",
     "output_type": "stream",
     "text": [
      "[Parallel(n_jobs=1)]: Using backend SequentialBackend with 1 concurrent workers.\n",
      "[Parallel(n_jobs=1)]: Done 135 out of 135 | elapsed:  2.3min finished\n"
     ]
    },
    {
     "name": "stdout",
     "output_type": "stream",
     "text": [
      "{'max_leaf_nodes': 50, 'min_samples_leaf': 50, 'min_samples_split': 30} 0.8668685581111759\n"
     ]
    }
   ],
   "source": [
    "#Optimizing Random Forest\n",
    "parameters = {}\n",
    "parameters['min_samples_leaf'] = [50, 100, 200]\n",
    "parameters['min_samples_split'] = [10, 30, 50]\n",
    "parameters['max_leaf_nodes'] = [2, 10, 50]\n",
    "\n",
    "gsc_clf = GridSearchCV(clf_opt, parameters, cv=5, verbose=1, scoring='roc_auc')\n",
    "gsc_clf.fit(X_le_train, Y_le_train)\n",
    "print(gsc_clf.best_params_, gsc_clf.best_score_)\n",
    "\n",
    "#Result: {'max_leaf_nodes': 50, 'min_samples_leaf': 50, 'min_samples_split': 50} 0.8672281193704677\n"
   ]
  },
  {
   "cell_type": "code",
   "execution_count": 30,
   "metadata": {},
   "outputs": [
    {
     "name": "stdout",
     "output_type": "stream",
     "text": [
      "[0.88307296 0.8952633  0.89256861 0.88151774 0.89013943 0.88360546\n",
      " 0.88573361 0.88203578 0.8964057  0.88330206]\n",
      "This model's ROC AUC score is :  0.887364 (0.005415)\n",
      "This model has an accuracy of 80.96% in predicting fraudulent transactions.\n",
      "\n",
      "Duration: 0:16:43.130126\n"
     ]
    }
   ],
   "source": [
    "#Gradient Boosting Classifer\n",
    "start_time = datetime.now()\n",
    "\n",
    "gb_opt = GradientBoostingClassifier(n_estimators=100, random_state=42)\n",
    "\n",
    "#Train the classifier\n",
    "fit_and_evaluate(gb_opt, X_le_train, Y_le_train)\n",
    "\n",
    "end_time = datetime.now()\n",
    "print('\\nDuration: {}'.format(end_time - start_time))"
   ]
  },
  {
   "cell_type": "markdown",
   "metadata": {},
   "source": [
    "**Evaluation:** Both the AUC score and accuracy score remains around 0.89 and 81% respectively. We'll stop here with tuning Gradient Boosting since it doesn't seem to be beating the Random Forest baseline model. "
   ]
  },
  {
   "cell_type": "markdown",
   "metadata": {},
   "source": [
    "### Best performing Gradient Boosting model"
   ]
  },
  {
   "cell_type": "code",
   "execution_count": 31,
   "metadata": {},
   "outputs": [
    {
     "name": "stdout",
     "output_type": "stream",
     "text": [
      "ROC AUC score of this model is : 0.805226 (0.000000)\n",
      "Accuracy score of this model is : 0.8052262279216066\n",
      "------------------------------------------------------------\n",
      "Fraudulent transactions predicted correctly (TPR): [0.83401887 0.77643358]\n",
      "Normal transactions predicted correctly (TNR): [0.77643358 0.83401887]\n",
      "Normal transactions predicted incorrectly (FPR): [0.22356642 0.16598113]\n",
      "Fraudulent transactions predicted incorrectly (FNR): [0.16598113 0.22356642]\n",
      "------------------------------------------------------------\n",
      "Classification Report\n",
      "              precision    recall  f1-score   support\n",
      "\n",
      "           0       0.79      0.83      0.81      4133\n",
      "           1       0.82      0.78      0.80      4133\n",
      "\n",
      "    accuracy                           0.81      8266\n",
      "   macro avg       0.81      0.81      0.81      8266\n",
      "weighted avg       0.81      0.81      0.81      8266\n",
      "\n",
      "------------------------------------------------------------\n"
     ]
    },
    {
     "data": {
      "image/png": "[encoded data removed]",
      "text/plain": [
       "<Figure size 432x288 with 1 Axes>"
      ]
     },
     "metadata": {
      "needs_background": "light"
     },
     "output_type": "display_data"
    },
    {
     "name": "stdout",
     "output_type": "stream",
     "text": [
      "\n",
      "Duration: 0:00:19.521284\n"
     ]
    }
   ],
   "source": [
    "# Gradient Boosting Classifer \n",
    "start_time = datetime.now()\n",
    "\n",
    "gb = GradientBoostingClassifier(random_state=42)\n",
    "\n",
    "# Train the classifier\n",
    "pred_test(gb, X_le_train, Y_le_train, X_le_test, Y_le_test)\n",
    "\n",
    "end_time = datetime.now()\n",
    "print('\\nDuration: {}'.format(end_time - start_time))"
   ]
  },
  {
   "cell_type": "markdown",
   "metadata": {},
   "source": [
    "**Evaluation:** This model has an AUC score of 0.88 on the testing set and an accuracy score of 80.52%. In terms of misclassification, this model failed to classify 16.59% of normal transactions and 22.35% of fraudulent transactions. \n",
    "\n",
    "We did not include hyperparameters in the final model since tuning it lead to lower performance. \n"
   ]
  },
  {
   "cell_type": "markdown",
   "metadata": {},
   "source": [
    "### Logistic Regression"
   ]
  },
  {
   "cell_type": "code",
   "execution_count": 32,
   "metadata": {},
   "outputs": [
    {
     "name": "stderr",
     "output_type": "stream",
     "text": [
      "C:\\Users\\CBRAHAKM\\AppData\\Local\\Continuum\\anaconda3\\lib\\site-packages\\sklearn\\linear_model\\logistic.py:432: FutureWarning: Default solver will be changed to 'lbfgs' in 0.22. Specify a solver to silence this warning.\n",
      "  FutureWarning)\n"
     ]
    },
    {
     "data": {
      "text/plain": [
       "SelectFromModel(estimator=LogisticRegression(C=1, class_weight=None, dual=False,\n",
       "                                             fit_intercept=True,\n",
       "                                             intercept_scaling=1, l1_ratio=None,\n",
       "                                             max_iter=100, multi_class='warn',\n",
       "                                             n_jobs=None, penalty='l1',\n",
       "                                             random_state=None, solver='warn',\n",
       "                                             tol=0.0001, verbose=0,\n",
       "                                             warm_start=False),\n",
       "                max_features=None, norm_order=1, prefit=False, threshold=None)"
      ]
     },
     "execution_count": 32,
     "metadata": {},
     "output_type": "execute_result"
    }
   ],
   "source": [
    "sel_ = SelectFromModel(LogisticRegression(C=1, penalty='l1'))\n",
    "sel_.fit(scaler.transform(X_db_train), Y_db_train)"
   ]
  },
  {
   "cell_type": "code",
   "execution_count": 33,
   "metadata": {},
   "outputs": [
    {
     "name": "stdout",
     "output_type": "stream",
     "text": [
      "total features: 173\n",
      "selected features: 88\n",
      "features with coefficients shrank to zero: 85\n"
     ]
    }
   ],
   "source": [
    "# List of selected features\n",
    "selected_feat = X_db.columns[(sel_.get_support())]\n",
    "\n",
    "print('total features: {}'.format((X_db.shape[1])))\n",
    "print('selected features: {}'.format(len(selected_feat)))\n",
    "print('features with coefficients shrank to zero: {}'.format(\n",
    "      np.sum(sel_.estimator_.coef_ == 0)))"
   ]
  },
  {
   "cell_type": "code",
   "execution_count": 34,
   "metadata": {},
   "outputs": [
    {
     "data": {
      "text/plain": [
       "Index(['TransactionAmt', 'card1', 'card2', 'addr1', 'addr2', 'C1', 'C2', 'C4',\n",
       "       'C5', 'C6', 'C8', 'C9', 'C10', 'C12', 'C13', 'C14', 'D1', 'D10', 'D15',\n",
       "       'V14', 'V26', 'V57', 'V59', 'V61', 'V63', 'V66', 'V76', 'V77', 'V79',\n",
       "       'V80', 'V81', 'V85', 'V90', 'V92', 'V96', 'V97', 'V99', 'V100', 'V102',\n",
       "       'V103', 'V104', 'V105', 'V126', 'V127', 'V128', 'V129', 'V130', 'V131',\n",
       "       'V132', 'V133', 'V134', 'V135', 'V136', 'V137', 'V279', 'V280', 'V285',\n",
       "       'V292', 'V293', 'V294', 'V295', 'V296', 'V297', 'V298', 'V299', 'V301',\n",
       "       'V306', 'V307', 'V308', 'V309', 'V310', 'V311', 'V312', 'V313', 'V314',\n",
       "       'V315', 'V316', 'V317', 'V318', 'V319', 'V320', 'V321',\n",
       "       'transaction_day_of_week', 'average_trans_amt_for_card1',\n",
       "       'average_trans_amt_for_card4'],\n",
       "      dtype='object')"
      ]
     },
     "execution_count": 34,
     "metadata": {},
     "output_type": "execute_result"
    }
   ],
   "source": [
    "# Identifying removed features\n",
    "removed_feats = X_db.columns[(sel_.estimator_.coef_ == 0).ravel().tolist()]\n",
    "removed_feats"
   ]
  },
  {
   "cell_type": "code",
   "execution_count": 35,
   "metadata": {},
   "outputs": [
    {
     "data": {
      "text/plain": [
       "((33060, 88), (8266, 88))"
      ]
     },
     "execution_count": 35,
     "metadata": {},
     "output_type": "execute_result"
    }
   ],
   "source": [
    "# Removing features from train and test set\n",
    "X_train_selected = sel_.transform(X_db_train)\n",
    "X_test_selected = sel_.transform(X_db_test)\n",
    "X_train_selected.shape, X_test_selected.shape"
   ]
  },
  {
   "cell_type": "code",
   "execution_count": 36,
   "metadata": {},
   "outputs": [
    {
     "name": "stdout",
     "output_type": "stream",
     "text": [
      "Logistic Regression\n"
     ]
    },
    {
     "name": "stderr",
     "output_type": "stream",
     "text": [
      "C:\\Users\\CBRAHAKM\\AppData\\Local\\Continuum\\anaconda3\\lib\\site-packages\\sklearn\\linear_model\\logistic.py:432: FutureWarning: Default solver will be changed to 'lbfgs' in 0.22. Specify a solver to silence this warning.\n",
      "  FutureWarning)\n",
      "C:\\Users\\CBRAHAKM\\AppData\\Local\\Continuum\\anaconda3\\lib\\site-packages\\sklearn\\linear_model\\logistic.py:432: FutureWarning: Default solver will be changed to 'lbfgs' in 0.22. Specify a solver to silence this warning.\n",
      "  FutureWarning)\n",
      "C:\\Users\\CBRAHAKM\\AppData\\Local\\Continuum\\anaconda3\\lib\\site-packages\\sklearn\\linear_model\\logistic.py:432: FutureWarning: Default solver will be changed to 'lbfgs' in 0.22. Specify a solver to silence this warning.\n",
      "  FutureWarning)\n",
      "C:\\Users\\CBRAHAKM\\AppData\\Local\\Continuum\\anaconda3\\lib\\site-packages\\sklearn\\linear_model\\logistic.py:432: FutureWarning: Default solver will be changed to 'lbfgs' in 0.22. Specify a solver to silence this warning.\n",
      "  FutureWarning)\n",
      "C:\\Users\\CBRAHAKM\\AppData\\Local\\Continuum\\anaconda3\\lib\\site-packages\\sklearn\\linear_model\\logistic.py:432: FutureWarning: Default solver will be changed to 'lbfgs' in 0.22. Specify a solver to silence this warning.\n",
      "  FutureWarning)\n",
      "C:\\Users\\CBRAHAKM\\AppData\\Local\\Continuum\\anaconda3\\lib\\site-packages\\sklearn\\linear_model\\logistic.py:432: FutureWarning: Default solver will be changed to 'lbfgs' in 0.22. Specify a solver to silence this warning.\n",
      "  FutureWarning)\n",
      "C:\\Users\\CBRAHAKM\\AppData\\Local\\Continuum\\anaconda3\\lib\\site-packages\\sklearn\\linear_model\\logistic.py:432: FutureWarning: Default solver will be changed to 'lbfgs' in 0.22. Specify a solver to silence this warning.\n",
      "  FutureWarning)\n",
      "C:\\Users\\CBRAHAKM\\AppData\\Local\\Continuum\\anaconda3\\lib\\site-packages\\sklearn\\linear_model\\logistic.py:432: FutureWarning: Default solver will be changed to 'lbfgs' in 0.22. Specify a solver to silence this warning.\n",
      "  FutureWarning)\n",
      "C:\\Users\\CBRAHAKM\\AppData\\Local\\Continuum\\anaconda3\\lib\\site-packages\\sklearn\\linear_model\\logistic.py:432: FutureWarning: Default solver will be changed to 'lbfgs' in 0.22. Specify a solver to silence this warning.\n",
      "  FutureWarning)\n",
      "C:\\Users\\CBRAHAKM\\AppData\\Local\\Continuum\\anaconda3\\lib\\site-packages\\sklearn\\linear_model\\logistic.py:432: FutureWarning: Default solver will be changed to 'lbfgs' in 0.22. Specify a solver to silence this warning.\n",
      "  FutureWarning)\n",
      "C:\\Users\\CBRAHAKM\\AppData\\Local\\Continuum\\anaconda3\\lib\\site-packages\\sklearn\\linear_model\\logistic.py:432: FutureWarning: Default solver will be changed to 'lbfgs' in 0.22. Specify a solver to silence this warning.\n",
      "  FutureWarning)\n",
      "C:\\Users\\CBRAHAKM\\AppData\\Local\\Continuum\\anaconda3\\lib\\site-packages\\sklearn\\linear_model\\logistic.py:432: FutureWarning: Default solver will be changed to 'lbfgs' in 0.22. Specify a solver to silence this warning.\n",
      "  FutureWarning)\n",
      "C:\\Users\\CBRAHAKM\\AppData\\Local\\Continuum\\anaconda3\\lib\\site-packages\\sklearn\\linear_model\\logistic.py:432: FutureWarning: Default solver will be changed to 'lbfgs' in 0.22. Specify a solver to silence this warning.\n",
      "  FutureWarning)\n",
      "C:\\Users\\CBRAHAKM\\AppData\\Local\\Continuum\\anaconda3\\lib\\site-packages\\sklearn\\linear_model\\logistic.py:432: FutureWarning: Default solver will be changed to 'lbfgs' in 0.22. Specify a solver to silence this warning.\n",
      "  FutureWarning)\n",
      "C:\\Users\\CBRAHAKM\\AppData\\Local\\Continuum\\anaconda3\\lib\\site-packages\\sklearn\\linear_model\\logistic.py:432: FutureWarning: Default solver will be changed to 'lbfgs' in 0.22. Specify a solver to silence this warning.\n",
      "  FutureWarning)\n",
      "C:\\Users\\CBRAHAKM\\AppData\\Local\\Continuum\\anaconda3\\lib\\site-packages\\sklearn\\linear_model\\logistic.py:432: FutureWarning: Default solver will be changed to 'lbfgs' in 0.22. Specify a solver to silence this warning.\n",
      "  FutureWarning)\n",
      "C:\\Users\\CBRAHAKM\\AppData\\Local\\Continuum\\anaconda3\\lib\\site-packages\\sklearn\\linear_model\\logistic.py:432: FutureWarning: Default solver will be changed to 'lbfgs' in 0.22. Specify a solver to silence this warning.\n",
      "  FutureWarning)\n",
      "C:\\Users\\CBRAHAKM\\AppData\\Local\\Continuum\\anaconda3\\lib\\site-packages\\sklearn\\linear_model\\logistic.py:432: FutureWarning: Default solver will be changed to 'lbfgs' in 0.22. Specify a solver to silence this warning.\n",
      "  FutureWarning)\n",
      "C:\\Users\\CBRAHAKM\\AppData\\Local\\Continuum\\anaconda3\\lib\\site-packages\\sklearn\\linear_model\\logistic.py:432: FutureWarning: Default solver will be changed to 'lbfgs' in 0.22. Specify a solver to silence this warning.\n",
      "  FutureWarning)\n",
      "C:\\Users\\CBRAHAKM\\AppData\\Local\\Continuum\\anaconda3\\lib\\site-packages\\sklearn\\linear_model\\logistic.py:432: FutureWarning: Default solver will be changed to 'lbfgs' in 0.22. Specify a solver to silence this warning.\n",
      "  FutureWarning)\n",
      "C:\\Users\\CBRAHAKM\\AppData\\Local\\Continuum\\anaconda3\\lib\\site-packages\\sklearn\\linear_model\\logistic.py:432: FutureWarning: Default solver will be changed to 'lbfgs' in 0.22. Specify a solver to silence this warning.\n",
      "  FutureWarning)\n",
      "C:\\Users\\CBRAHAKM\\AppData\\Local\\Continuum\\anaconda3\\lib\\site-packages\\sklearn\\linear_model\\logistic.py:432: FutureWarning: Default solver will be changed to 'lbfgs' in 0.22. Specify a solver to silence this warning.\n",
      "  FutureWarning)\n",
      "C:\\Users\\CBRAHAKM\\AppData\\Local\\Continuum\\anaconda3\\lib\\site-packages\\sklearn\\linear_model\\logistic.py:432: FutureWarning: Default solver will be changed to 'lbfgs' in 0.22. Specify a solver to silence this warning.\n",
      "  FutureWarning)\n",
      "C:\\Users\\CBRAHAKM\\AppData\\Local\\Continuum\\anaconda3\\lib\\site-packages\\sklearn\\linear_model\\logistic.py:432: FutureWarning: Default solver will be changed to 'lbfgs' in 0.22. Specify a solver to silence this warning.\n",
      "  FutureWarning)\n",
      "C:\\Users\\CBRAHAKM\\AppData\\Local\\Continuum\\anaconda3\\lib\\site-packages\\sklearn\\linear_model\\logistic.py:432: FutureWarning: Default solver will be changed to 'lbfgs' in 0.22. Specify a solver to silence this warning.\n",
      "  FutureWarning)\n",
      "C:\\Users\\CBRAHAKM\\AppData\\Local\\Continuum\\anaconda3\\lib\\site-packages\\sklearn\\linear_model\\logistic.py:432: FutureWarning: Default solver will be changed to 'lbfgs' in 0.22. Specify a solver to silence this warning.\n",
      "  FutureWarning)\n",
      "C:\\Users\\CBRAHAKM\\AppData\\Local\\Continuum\\anaconda3\\lib\\site-packages\\sklearn\\linear_model\\logistic.py:432: FutureWarning: Default solver will be changed to 'lbfgs' in 0.22. Specify a solver to silence this warning.\n",
      "  FutureWarning)\n",
      "C:\\Users\\CBRAHAKM\\AppData\\Local\\Continuum\\anaconda3\\lib\\site-packages\\sklearn\\linear_model\\logistic.py:432: FutureWarning: Default solver will be changed to 'lbfgs' in 0.22. Specify a solver to silence this warning.\n",
      "  FutureWarning)\n",
      "C:\\Users\\CBRAHAKM\\AppData\\Local\\Continuum\\anaconda3\\lib\\site-packages\\sklearn\\linear_model\\logistic.py:432: FutureWarning: Default solver will be changed to 'lbfgs' in 0.22. Specify a solver to silence this warning.\n",
      "  FutureWarning)\n",
      "C:\\Users\\CBRAHAKM\\AppData\\Local\\Continuum\\anaconda3\\lib\\site-packages\\sklearn\\linear_model\\logistic.py:432: FutureWarning: Default solver will be changed to 'lbfgs' in 0.22. Specify a solver to silence this warning.\n",
      "  FutureWarning)\n"
     ]
    },
    {
     "name": "stdout",
     "output_type": "stream",
     "text": [
      "[0.81531626 0.82578834 0.81978595 0.80385934 0.81716372 0.80503706\n",
      " 0.8140562  0.8115273  0.82308725 0.80326005]\n",
      "This model's ROC AUC score is :  0.813888 (0.007558)\n",
      "This model has an accuracy of 73.28% in predicting fraudulent transactions.\n",
      "\n",
      "Duration: 0:00:40.404058\n"
     ]
    }
   ],
   "source": [
    "# Logisitic Regression \n",
    "start_time = datetime.now()\n",
    "\n",
    "print('Logistic Regression')\n",
    "\n",
    "# Instantiate the model (using the default parameters)\n",
    "logreg = LogisticRegression()\n",
    "\n",
    "fit_and_evaluate(logreg, X_train_selected, Y_db_train)\n",
    "\n",
    "end_time = datetime.now()\n",
    "print('\\nDuration: {}'.format(end_time - start_time))"
   ]
  },
  {
   "cell_type": "markdown",
   "metadata": {},
   "source": [
    "**Evaluation:** Here, our baseline model has an AUC score of 0.813 on the training set. From the cross validation score, this model doesn't seem to be overfitting since the scores are relatively close within range to each other. The accuracy is 73.28%, which is rather low. "
   ]
  },
  {
   "cell_type": "markdown",
   "metadata": {},
   "source": [
    "### Optimization"
   ]
  },
  {
   "cell_type": "code",
   "execution_count": 37,
   "metadata": {},
   "outputs": [],
   "source": [
    "#Optimizing Logistic Regression\n",
    "#parameters = {}\n",
    "#parameters['penalty'] = ['l1', 'l2']\n",
    "#parameters['tol'] = [1e-3, 1e-4, 1e-5]\n",
    "#parameters['C'] = [1, 1e-2, 1e-4]\n",
    "\n",
    "#gsc_lr = GridSearchCV(logreg, parameters, cv=5, scoring='roc_auc')\n",
    "#gsc_lr.fit(X_train_selected, y_db_train)\n",
    "#print(gsc_lr.best_params_, gsc_lr.best_score_)\n",
    "\n",
    "# Result: {'C': 1, 'penalty': 'l2', 'tol': 1e-05} 0.8530127574410966"
   ]
  },
  {
   "cell_type": "code",
   "execution_count": 38,
   "metadata": {},
   "outputs": [
    {
     "name": "stdout",
     "output_type": "stream",
     "text": [
      "Optimized Logistic Regression\n"
     ]
    },
    {
     "name": "stderr",
     "output_type": "stream",
     "text": [
      "C:\\Users\\CBRAHAKM\\AppData\\Local\\Continuum\\anaconda3\\lib\\site-packages\\sklearn\\linear_model\\logistic.py:432: FutureWarning: Default solver will be changed to 'lbfgs' in 0.22. Specify a solver to silence this warning.\n",
      "  FutureWarning)\n",
      "C:\\Users\\CBRAHAKM\\AppData\\Local\\Continuum\\anaconda3\\lib\\site-packages\\sklearn\\linear_model\\logistic.py:432: FutureWarning: Default solver will be changed to 'lbfgs' in 0.22. Specify a solver to silence this warning.\n",
      "  FutureWarning)\n",
      "C:\\Users\\CBRAHAKM\\AppData\\Local\\Continuum\\anaconda3\\lib\\site-packages\\sklearn\\linear_model\\logistic.py:432: FutureWarning: Default solver will be changed to 'lbfgs' in 0.22. Specify a solver to silence this warning.\n",
      "  FutureWarning)\n",
      "C:\\Users\\CBRAHAKM\\AppData\\Local\\Continuum\\anaconda3\\lib\\site-packages\\sklearn\\linear_model\\logistic.py:432: FutureWarning: Default solver will be changed to 'lbfgs' in 0.22. Specify a solver to silence this warning.\n",
      "  FutureWarning)\n",
      "C:\\Users\\CBRAHAKM\\AppData\\Local\\Continuum\\anaconda3\\lib\\site-packages\\sklearn\\linear_model\\logistic.py:432: FutureWarning: Default solver will be changed to 'lbfgs' in 0.22. Specify a solver to silence this warning.\n",
      "  FutureWarning)\n",
      "C:\\Users\\CBRAHAKM\\AppData\\Local\\Continuum\\anaconda3\\lib\\site-packages\\sklearn\\linear_model\\logistic.py:432: FutureWarning: Default solver will be changed to 'lbfgs' in 0.22. Specify a solver to silence this warning.\n",
      "  FutureWarning)\n",
      "C:\\Users\\CBRAHAKM\\AppData\\Local\\Continuum\\anaconda3\\lib\\site-packages\\sklearn\\linear_model\\logistic.py:432: FutureWarning: Default solver will be changed to 'lbfgs' in 0.22. Specify a solver to silence this warning.\n",
      "  FutureWarning)\n",
      "C:\\Users\\CBRAHAKM\\AppData\\Local\\Continuum\\anaconda3\\lib\\site-packages\\sklearn\\linear_model\\logistic.py:432: FutureWarning: Default solver will be changed to 'lbfgs' in 0.22. Specify a solver to silence this warning.\n",
      "  FutureWarning)\n",
      "C:\\Users\\CBRAHAKM\\AppData\\Local\\Continuum\\anaconda3\\lib\\site-packages\\sklearn\\linear_model\\logistic.py:432: FutureWarning: Default solver will be changed to 'lbfgs' in 0.22. Specify a solver to silence this warning.\n",
      "  FutureWarning)\n",
      "C:\\Users\\CBRAHAKM\\AppData\\Local\\Continuum\\anaconda3\\lib\\site-packages\\sklearn\\linear_model\\logistic.py:432: FutureWarning: Default solver will be changed to 'lbfgs' in 0.22. Specify a solver to silence this warning.\n",
      "  FutureWarning)\n",
      "C:\\Users\\CBRAHAKM\\AppData\\Local\\Continuum\\anaconda3\\lib\\site-packages\\sklearn\\linear_model\\logistic.py:432: FutureWarning: Default solver will be changed to 'lbfgs' in 0.22. Specify a solver to silence this warning.\n",
      "  FutureWarning)\n",
      "C:\\Users\\CBRAHAKM\\AppData\\Local\\Continuum\\anaconda3\\lib\\site-packages\\sklearn\\linear_model\\logistic.py:432: FutureWarning: Default solver will be changed to 'lbfgs' in 0.22. Specify a solver to silence this warning.\n",
      "  FutureWarning)\n",
      "C:\\Users\\CBRAHAKM\\AppData\\Local\\Continuum\\anaconda3\\lib\\site-packages\\sklearn\\linear_model\\logistic.py:432: FutureWarning: Default solver will be changed to 'lbfgs' in 0.22. Specify a solver to silence this warning.\n",
      "  FutureWarning)\n",
      "C:\\Users\\CBRAHAKM\\AppData\\Local\\Continuum\\anaconda3\\lib\\site-packages\\sklearn\\linear_model\\logistic.py:432: FutureWarning: Default solver will be changed to 'lbfgs' in 0.22. Specify a solver to silence this warning.\n",
      "  FutureWarning)\n",
      "C:\\Users\\CBRAHAKM\\AppData\\Local\\Continuum\\anaconda3\\lib\\site-packages\\sklearn\\linear_model\\logistic.py:432: FutureWarning: Default solver will be changed to 'lbfgs' in 0.22. Specify a solver to silence this warning.\n",
      "  FutureWarning)\n",
      "C:\\Users\\CBRAHAKM\\AppData\\Local\\Continuum\\anaconda3\\lib\\site-packages\\sklearn\\linear_model\\logistic.py:432: FutureWarning: Default solver will be changed to 'lbfgs' in 0.22. Specify a solver to silence this warning.\n",
      "  FutureWarning)\n",
      "C:\\Users\\CBRAHAKM\\AppData\\Local\\Continuum\\anaconda3\\lib\\site-packages\\sklearn\\linear_model\\logistic.py:432: FutureWarning: Default solver will be changed to 'lbfgs' in 0.22. Specify a solver to silence this warning.\n",
      "  FutureWarning)\n",
      "C:\\Users\\CBRAHAKM\\AppData\\Local\\Continuum\\anaconda3\\lib\\site-packages\\sklearn\\linear_model\\logistic.py:432: FutureWarning: Default solver will be changed to 'lbfgs' in 0.22. Specify a solver to silence this warning.\n",
      "  FutureWarning)\n",
      "C:\\Users\\CBRAHAKM\\AppData\\Local\\Continuum\\anaconda3\\lib\\site-packages\\sklearn\\linear_model\\logistic.py:432: FutureWarning: Default solver will be changed to 'lbfgs' in 0.22. Specify a solver to silence this warning.\n",
      "  FutureWarning)\n",
      "C:\\Users\\CBRAHAKM\\AppData\\Local\\Continuum\\anaconda3\\lib\\site-packages\\sklearn\\linear_model\\logistic.py:432: FutureWarning: Default solver will be changed to 'lbfgs' in 0.22. Specify a solver to silence this warning.\n",
      "  FutureWarning)\n",
      "C:\\Users\\CBRAHAKM\\AppData\\Local\\Continuum\\anaconda3\\lib\\site-packages\\sklearn\\linear_model\\logistic.py:432: FutureWarning: Default solver will be changed to 'lbfgs' in 0.22. Specify a solver to silence this warning.\n",
      "  FutureWarning)\n",
      "C:\\Users\\CBRAHAKM\\AppData\\Local\\Continuum\\anaconda3\\lib\\site-packages\\sklearn\\linear_model\\logistic.py:432: FutureWarning: Default solver will be changed to 'lbfgs' in 0.22. Specify a solver to silence this warning.\n",
      "  FutureWarning)\n",
      "C:\\Users\\CBRAHAKM\\AppData\\Local\\Continuum\\anaconda3\\lib\\site-packages\\sklearn\\linear_model\\logistic.py:432: FutureWarning: Default solver will be changed to 'lbfgs' in 0.22. Specify a solver to silence this warning.\n",
      "  FutureWarning)\n",
      "C:\\Users\\CBRAHAKM\\AppData\\Local\\Continuum\\anaconda3\\lib\\site-packages\\sklearn\\linear_model\\logistic.py:432: FutureWarning: Default solver will be changed to 'lbfgs' in 0.22. Specify a solver to silence this warning.\n",
      "  FutureWarning)\n",
      "C:\\Users\\CBRAHAKM\\AppData\\Local\\Continuum\\anaconda3\\lib\\site-packages\\sklearn\\linear_model\\logistic.py:432: FutureWarning: Default solver will be changed to 'lbfgs' in 0.22. Specify a solver to silence this warning.\n",
      "  FutureWarning)\n",
      "C:\\Users\\CBRAHAKM\\AppData\\Local\\Continuum\\anaconda3\\lib\\site-packages\\sklearn\\linear_model\\logistic.py:432: FutureWarning: Default solver will be changed to 'lbfgs' in 0.22. Specify a solver to silence this warning.\n",
      "  FutureWarning)\n",
      "C:\\Users\\CBRAHAKM\\AppData\\Local\\Continuum\\anaconda3\\lib\\site-packages\\sklearn\\linear_model\\logistic.py:432: FutureWarning: Default solver will be changed to 'lbfgs' in 0.22. Specify a solver to silence this warning.\n",
      "  FutureWarning)\n",
      "C:\\Users\\CBRAHAKM\\AppData\\Local\\Continuum\\anaconda3\\lib\\site-packages\\sklearn\\linear_model\\logistic.py:432: FutureWarning: Default solver will be changed to 'lbfgs' in 0.22. Specify a solver to silence this warning.\n",
      "  FutureWarning)\n",
      "C:\\Users\\CBRAHAKM\\AppData\\Local\\Continuum\\anaconda3\\lib\\site-packages\\sklearn\\linear_model\\logistic.py:432: FutureWarning: Default solver will be changed to 'lbfgs' in 0.22. Specify a solver to silence this warning.\n",
      "  FutureWarning)\n",
      "C:\\Users\\CBRAHAKM\\AppData\\Local\\Continuum\\anaconda3\\lib\\site-packages\\sklearn\\linear_model\\logistic.py:432: FutureWarning: Default solver will be changed to 'lbfgs' in 0.22. Specify a solver to silence this warning.\n",
      "  FutureWarning)\n"
     ]
    },
    {
     "name": "stdout",
     "output_type": "stream",
     "text": [
      "[0.81531846 0.82578578 0.81979253 0.80386081 0.81716299 0.80504621\n",
      " 0.81405401 0.81151815 0.82309017 0.80326115]\n",
      "This model's ROC AUC score is :  0.813889 (0.007558)\n",
      "This model has an accuracy of 73.27% in predicting fraudulent transactions.\n",
      "\n",
      "Duration: 0:00:51.626072\n"
     ]
    }
   ],
   "source": [
    "#Optimized model with Logistic Regression\n",
    "start_time = datetime.now()\n",
    "\n",
    "print('Optimized Logistic Regression')\n",
    "\n",
    "lr_opt = LogisticRegression(C=1, penalty='l2', tol=1e-05)\n",
    "\n",
    "fit_and_evaluate(lr_opt, X_train_selected, Y_db_train)\n",
    "\n",
    "end_time = datetime.now()\n",
    "print('\\nDuration: {}'.format(end_time - start_time))\n",
    "    "
   ]
  },
  {
   "cell_type": "markdown",
   "metadata": {},
   "source": [
    "**Evaluation:** The optimized logistic regression model has essentially the same AUC score of 0.813 on the training set. From the cross validation score, this model doesn't seem to be overfitting since the scores range between 0.80 to 0.82. The accuracy score is the same as the initial model, 73.29%. Since our primary metric is ROC AUC, we will continue with the initial logistic regression model since it has a slightly higher AUC score. "
   ]
  },
  {
   "cell_type": "markdown",
   "metadata": {},
   "source": [
    "### Best performing Logistic Regression model"
   ]
  },
  {
   "cell_type": "code",
   "execution_count": 39,
   "metadata": {},
   "outputs": [
    {
     "name": "stdout",
     "output_type": "stream",
     "text": [
      "Logistic Regression\n"
     ]
    },
    {
     "name": "stderr",
     "output_type": "stream",
     "text": [
      "C:\\Users\\CBRAHAKM\\AppData\\Local\\Continuum\\anaconda3\\lib\\site-packages\\sklearn\\linear_model\\logistic.py:432: FutureWarning: Default solver will be changed to 'lbfgs' in 0.22. Specify a solver to silence this warning.\n",
      "  FutureWarning)\n"
     ]
    },
    {
     "name": "stdout",
     "output_type": "stream",
     "text": [
      "ROC AUC score of this model is : 0.737358 (0.000000)\n",
      "Accuracy score of this model is : 0.7373578514396323\n",
      "------------------------------------------------------------\n",
      "Fraudulent transactions predicted correctly (TPR): [0.75756109 0.71715461]\n",
      "Normal transactions predicted correctly (TNR): [0.71715461 0.75756109]\n",
      "Normal transactions predicted incorrectly (FPR): [0.28284539 0.24243891]\n",
      "Fraudulent transactions predicted incorrectly (FNR): [0.24243891 0.28284539]\n",
      "------------------------------------------------------------\n",
      "Classification Report\n",
      "              precision    recall  f1-score   support\n",
      "\n",
      "           0       0.73      0.76      0.74      4133\n",
      "           1       0.75      0.72      0.73      4133\n",
      "\n",
      "    accuracy                           0.74      8266\n",
      "   macro avg       0.74      0.74      0.74      8266\n",
      "weighted avg       0.74      0.74      0.74      8266\n",
      "\n",
      "------------------------------------------------------------\n"
     ]
    },
    {
     "data": {
      "image/png": "[encoded data removed]",
      "text/plain": [
       "<Figure size 432x288 with 1 Axes>"
      ]
     },
     "metadata": {
      "needs_background": "light"
     },
     "output_type": "display_data"
    },
    {
     "name": "stdout",
     "output_type": "stream",
     "text": [
      "\n",
      "Duration: 0:00:01.621668\n"
     ]
    }
   ],
   "source": [
    "# Logisitic Regression \n",
    "start_time = datetime.now()\n",
    "\n",
    "print('Logistic Regression')\n",
    "\n",
    "# Instantiate the model (using the default parameters)\n",
    "logreg = LogisticRegression()\n",
    "\n",
    "pred_test(logreg, X_train_selected, Y_db_train, X_test_selected, Y_db_test)\n",
    "\n",
    "end_time = datetime.now()\n",
    "print('\\nDuration: {}'.format(end_time - start_time))"
   ]
  },
  {
   "cell_type": "markdown",
   "metadata": {},
   "source": [
    "**Evaluation:** This model has an AUC score of 0.73 on the testing set and an accuracy score of 81.66%. In terms of misclassification, this model failed to classify 24.31% of normal transactions and 28.30% of fraudulent transactions. \n",
    "\n",
    "We did not include hyperparameters in the final model since tuning it lead to lower performance. \n"
   ]
  },
  {
   "cell_type": "markdown",
   "metadata": {},
   "source": [
    "### Model Results"
   ]
  },
  {
   "cell_type": "code",
   "execution_count": 42,
   "metadata": {},
   "outputs": [
    {
     "name": "stdout",
     "output_type": "stream",
     "text": [
      "(33060, 173) (8266, 173)\n",
      "(33060,) (8266,)\n"
     ]
    }
   ],
   "source": [
    "# df_db\n",
    "X_train, X_test, Y_train, Y_test = train_test_split(X_db, Y_db, test_size=0.2, random_state=42)\n",
    "\n",
    "\n",
    "print(X_train.shape, X_test.shape)\n",
    "print(Y_train.shape, Y_test.shape)"
   ]
  },
  {
   "cell_type": "code",
   "execution_count": 43,
   "metadata": {},
   "outputs": [],
   "source": [
    "\n",
    "# Instantiate the classfiers and make a list\n",
    "classifiers = [LogisticRegression(random_state=1234), \n",
    "               GradientBoostingClassifier(random_state=1234),\n",
    "               RandomForestClassifier(random_state=1234)]\n",
    "\n",
    "# Define a result table as a DataFrame\n",
    "result_table = pd.DataFrame(columns=['classifiers', 'fpr','tpr','auc'])\n",
    "\n",
    "# Train the models and record the results\n",
    "for cls in classifiers:\n",
    "    model = cls.fit(X_train, Y_train)\n",
    "    yproba = model.predict_proba(X_test)[::,1]\n",
    "    \n",
    "    fpr, tpr, _ = roc_curve(Y_test,  yproba)\n",
    "    auc = roc_auc_score(Y_test, yproba)\n",
    "    \n",
    "    result_table = result_table.append({'classifiers':cls.__class__.__name__,\n",
    "                                        'fpr':fpr, \n",
    "                                        'tpr':tpr, \n",
    "                                        'auc':auc}, ignore_index=True)\n",
    "\n",
    "# Set name of the classifiers as index labels\n",
    "result_table.set_index('classifiers', inplace=True)"
   ]
  },
  {
   "cell_type": "code",
   "execution_count": 44,
   "metadata": {},
   "outputs": [
    {
     "data": {
      "image/png": "[encoded data removed]",
      "text/plain": [
       "<Figure size 576x432 with 1 Axes>"
      ]
     },
     "metadata": {
      "needs_background": "light"
     },
     "output_type": "display_data"
    }
   ],
   "source": [
    "fig = plt.figure(figsize=(8,6))\n",
    "\n",
    "for i in result_table.index:\n",
    "    plt.plot(result_table.loc[i]['fpr'], \n",
    "             result_table.loc[i]['tpr'], \n",
    "             label=\"{}, AUC={:.3f}\".format(i, result_table.loc[i]['auc']))\n",
    "    \n",
    "plt.plot([0,1], [0,1], color='orange', linestyle='--')\n",
    "\n",
    "plt.xticks(np.arange(0.0, 1.1, step=0.1))\n",
    "plt.xlabel(\"Flase Positive Rate\", fontsize=15)\n",
    "\n",
    "plt.yticks(np.arange(0.0, 1.1, step=0.1))\n",
    "plt.ylabel(\"True Positive Rate\", fontsize=15)\n",
    "\n",
    "plt.title('ROC Curve Analysis', fontweight='bold', fontsize=15)\n",
    "plt.legend(prop={'size':13}, loc='lower right')\n",
    "\n",
    "plt.show()"
   ]
  },
  {
   "cell_type": "markdown",
   "metadata": {},
   "source": [
    "After feature selection, the logistic regression model perform better than random guess with a AUC score of 0.83 on the test set. Random forest with all features performed that best with a AUC score of 0.89 on the test set. Gradient boosting was a close match to random forest with a AUC score of 0.88 on the test set. However, its false negative rate remained 4% higher than random forest. Also, Random Forest is perform better than Gradient Boosting. With these results, we will move forward with only random forest."
   ]
  },
  {
   "cell_type": "code",
   "execution_count": null,
   "metadata": {},
   "outputs": [],
   "source": []
  }
 ],
 "metadata": {
  "kernelspec": {
   "display_name": "Python 3",
   "language": "python",
   "name": "python3"
  },
  "language_info": {
   "codemirror_mode": {
    "name": "ipython",
    "version": 3
   },
   "file_extension": ".py",
   "mimetype": "text/x-python",
   "name": "python",
   "nbconvert_exporter": "python",
   "pygments_lexer": "ipython3",
   "version": "3.7.3"
  }
 },
 "nbformat": 4,
 "nbformat_minor": 2
}
